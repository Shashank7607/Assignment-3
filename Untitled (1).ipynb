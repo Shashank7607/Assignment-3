{
 "cells": [
  {
   "cell_type": "code",
   "execution_count": 4,
   "id": "c6113243-a8ec-4084-b79a-629146db8efc",
   "metadata": {},
   "outputs": [],
   "source": [
    " #The for loop is used when we already know the number of iterations, which means when we know how many times a statement has to be executed. That is why we have to specify the ending point in the for loop initialization. When we need to end the loop on a condition other than the number of times, we use a while loop."
   ]
  },
  {
   "cell_type": "code",
   "execution_count": 5,
   "id": "ec7d26db-9435-4a94-b548-c7ad7718d333",
   "metadata": {},
   "outputs": [
    {
     "name": "stdout",
     "output_type": "stream",
     "text": [
      "1\n",
      "2\n",
      "3\n"
     ]
    }
   ],
   "source": [
    "n = [1, 2, 3]  # Initialization\n",
    "for i in n:  # Condition and Updation\n",
    "    print(i)"
   ]
  },
  {
   "cell_type": "code",
   "execution_count": 6,
   "id": "50165201-8392-478b-8f22-58710468986b",
   "metadata": {},
   "outputs": [
    {
     "name": "stdout",
     "output_type": "stream",
     "text": [
      "1\n",
      "2\n",
      "3\n",
      "4\n",
      "5\n"
     ]
    }
   ],
   "source": [
    "i = 1  # Initialization\n",
    "while i < 6:  # Condition\n",
    "    print(i)\n",
    "    i += 1  # Updation"
   ]
  },
  {
   "cell_type": "code",
   "execution_count": 9,
   "id": "fc1d557d-652d-4aa5-ad24-9c9d70a0921b",
   "metadata": {},
   "outputs": [
    {
     "name": "stdout",
     "output_type": "stream",
     "text": [
      "Sum is 55\n"
     ]
    }
   ],
   "source": [
    "sum_to_10 = 0 \n",
    "for i in range(1, 11): \n",
    "    sum_to_10 += i \n",
    "print(\"Sum is\", sum_to_10) "
   ]
  },
  {
   "cell_type": "code",
   "execution_count": 14,
   "id": "99f67a38-9eae-4cd6-9a60-51c6bcbac2c5",
   "metadata": {},
   "outputs": [
    {
     "name": "stdin",
     "output_type": "stream",
     "text": [
      "Enter a number:  10\n"
     ]
    },
    {
     "name": "stdout",
     "output_type": "stream",
     "text": [
      "The sum of first n natural numbers is 55\n"
     ]
    }
   ],
   "source": [
    "n=int(input(\"Enter a number: \"))\n",
    "sum1 = 0\n",
    "while(n > 0):\n",
    "    sum1=sum1+n\n",
    "    n=n-1\n",
    "print(\"The sum of first n natural numbers is\",sum1)"
   ]
  },
  {
   "cell_type": "code",
   "execution_count": null,
   "id": "24cfdc31-423c-4a66-8f12-6ceb795e0c77",
   "metadata": {},
   "outputs": [],
   "source": [
    "def calculate_bill(units):\n",
    "    if units <= 100:\n",
    "        bill = units * 4.5\n",
    "    elif units <= 200:\n",
    "        bill = (100 * 4.5) + ((units - 100) * 6)\n",
    "    elif units <= 300:\n",
    "        bill = (100 * 4.5) + (100 * 6) + ((units - 200) * 10)\n",
    "    else:\n",
    "        bill = (100 * 4.5) + (100 * 6) + (100 * 10) + ((units - 300) * 20)\n",
    "    return bill\n",
    "\n",
    "units = int(input(\"Enter the number of units consumed: \"))\n",
    "print(\"Electricity bill: Rs.\", calculate_bill(units))\n"
   ]
  },
  {
   "cell_type": "code",
   "execution_count": null,
   "id": "4811722f-c1ac-402b-9e0c-8b3e031b1730",
   "metadata": {},
   "outputs": [],
   "source": [
    "#using for loop\n",
    "numbers = [101]\n",
    "for i in range(1, 100):\n",
    "    cube = i**3\n",
    "    if cube % 4==0 or cube % 5 == 0:\n",
    "        numbers.append(i)\n",
    "print (\"using for loop:\",numbers)        "
   ]
  },
  {
   "cell_type": "code",
   "execution_count": null,
   "id": "cb27cc32-7ddb-4a92-9ea8-b00d0bbacc7e",
   "metadata": {},
   "outputs": [],
   "source": []
  }
 ],
 "metadata": {
  "kernelspec": {
   "display_name": "Python 3 (ipykernel)",
   "language": "python",
   "name": "python3"
  },
  "language_info": {
   "codemirror_mode": {
    "name": "ipython",
    "version": 3
   },
   "file_extension": ".py",
   "mimetype": "text/x-python",
   "name": "python",
   "nbconvert_exporter": "python",
   "pygments_lexer": "ipython3",
   "version": "3.10.8"
  }
 },
 "nbformat": 4,
 "nbformat_minor": 5
}
